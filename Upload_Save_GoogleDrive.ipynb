{
  "nbformat": 4,
  "nbformat_minor": 0,
  "metadata": {
    "colab": {
      "provenance": [],
      "toc_visible": true,
      "authorship_tag": "ABX9TyOXr+OXuTVBJKBVfNI+AMIK",
      "include_colab_link": true
    },
    "kernelspec": {
      "name": "python3",
      "display_name": "Python 3"
    },
    "language_info": {
      "name": "python"
    }
  },
  "cells": [
    {
      "cell_type": "markdown",
      "metadata": {
        "id": "view-in-github",
        "colab_type": "text"
      },
      "source": [
        "<a href=\"https://colab.research.google.com/github/mahboob82/Software-tips/blob/main/Upload_Save_GoogleDrive.ipynb\" target=\"_parent\"><img src=\"https://colab.research.google.com/assets/colab-badge.svg\" alt=\"Open In Colab\"/></a>"
      ]
    },
    {
      "cell_type": "markdown",
      "source": [
        "# Import essential packages for file access"
      ],
      "metadata": {
        "id": "UT7zZslRTLyd"
      }
    },
    {
      "cell_type": "code",
      "source": [
        "from google.colab import drive\n",
        "from google.colab import files\n",
        "import pandas as pd"
      ],
      "metadata": {
        "id": "5lNIxsmmR5oQ"
      },
      "execution_count": 43,
      "outputs": []
    },
    {
      "cell_type": "markdown",
      "source": [
        "# Check your current directory"
      ],
      "metadata": {
        "id": "zxYaC2MKTAZ8"
      }
    },
    {
      "cell_type": "code",
      "source": [
        "!pwd\n",
        "!ls -la '.'"
      ],
      "metadata": {
        "colab": {
          "base_uri": "https://localhost:8080/",
          "height": 0
        },
        "id": "5ioUAvWsSTjw",
        "outputId": "d0b6bdad-3c86-4655-beaa-b95501f8db6d"
      },
      "execution_count": 47,
      "outputs": [
        {
          "output_type": "stream",
          "name": "stdout",
          "text": [
            "/content\n",
            "total 20\n",
            "drwxr-xr-x 1 root root 4096 Nov 17 04:36 .\n",
            "drwxr-xr-x 1 root root 4096 Nov 17 04:22 ..\n",
            "drwxr-xr-x 4 root root 4096 Nov 15 14:30 .config\n",
            "drwx------ 5 root root 4096 Nov 17 04:36 drive\n",
            "drwxr-xr-x 1 root root 4096 Nov 15 14:31 sample_data\n"
          ]
        }
      ]
    },
    {
      "cell_type": "markdown",
      "source": [
        "# Connect to your google-drive using a mount-point"
      ],
      "metadata": {
        "id": "lH-8WT38Tin7"
      }
    },
    {
      "cell_type": "code",
      "source": [
        "drive.mount('/content/drive') \n",
        "# 'drive' is any name you want to give."
      ],
      "metadata": {
        "colab": {
          "base_uri": "https://localhost:8080/",
          "height": 0
        },
        "id": "t8iA38hrS-OR",
        "outputId": "9fa6e520-ef2b-4796-a7b4-bf5ac5b97f77"
      },
      "execution_count": 48,
      "outputs": [
        {
          "output_type": "stream",
          "name": "stdout",
          "text": [
            "Drive already mounted at /content/drive; to attempt to forcibly remount, call drive.mount(\"/content/drive\", force_remount=True).\n"
          ]
        }
      ]
    },
    {
      "cell_type": "code",
      "execution_count": 52,
      "metadata": {
        "colab": {
          "base_uri": "https://localhost:8080/",
          "height": 0
        },
        "id": "QJxWC_fa036n",
        "outputId": "31f7561c-efe9-44ee-b5b8-ba5811339ad8"
      },
      "outputs": [
        {
          "output_type": "stream",
          "name": "stdout",
          "text": [
            "ls: drive/MyDrive/Book: No such file or directory\n",
            "total 61\n",
            "lrw------- 1 root root    0 May 27 16:33  Book -> /content/drive/.shortcut-targets-by-id/0B4HppN1nEJ6KSTl5ekp1M2t4U00/Book\n",
            "drwx------ 2 root root 4096 Feb 20  2021 'Colab Notebooks'\n",
            "drwx------ 2 root root 4096 Nov 17 05:38  dfs\n",
            "drwx------ 2 root root 4096 Jun 15  2019  Docs\n",
            "drwx------ 2 root root 4096 Jun 15  2019  Excel\n",
            "drwx------ 2 root root 4096 Oct 31 11:15 'Google Earth'\n",
            "drwx------ 2 root root 4096 Oct 12  2012 'Microsoft Office 2010 Activator'\n",
            "drwx------ 2 root root 4096 Nov 17 01:55  mydata\n",
            "drwx------ 2 root root 4096 Nov  9  2012  NO_MAF-delete\n",
            "drwx------ 2 root root 4096 Jun 15  2019  PDF\n",
            "drwx------ 2 root root 4096 Jun 15  2019  Photo\n",
            "drwx------ 2 root root 4096 May 30  2021  Programming\n",
            "drwx------ 2 root root 4096 Jun 15  2019  Quantile-regression\n",
            "drwx------ 2 root root 4096 Feb 28  2021  Takeout\n",
            "-rw------- 1 root root  143 Mar  5  2021 'Untitled presentation.gslides'\n",
            "drwx------ 2 root root 4096 Jun 15  2019  Video\n",
            "drwx------ 2 root root 4096 Jun 15  2019  Zips\n"
          ]
        }
      ],
      "source": [
        "# 'MyDrive' is the google given folder name for your drive. \n",
        "# Nothing you can do about this. See if your target folder is there or not. \n",
        "# Create a new folder if needed. You can also delete a folder if you want.\n",
        "!ls -la 'drive/MyDrive' "
      ]
    },
    {
      "cell_type": "markdown",
      "source": [
        "# Create a folder to your google drive"
      ],
      "metadata": {
        "id": "boY1F_BDgMHa"
      }
    },
    {
      "cell_type": "code",
      "source": [
        "!mkdir drive/MyDrive/all-dfs"
      ],
      "metadata": {
        "id": "zvQeARmB051N"
      },
      "execution_count": 58,
      "outputs": []
    },
    {
      "cell_type": "code",
      "source": [
        "#!ls -la drive/MyDrive/"
      ],
      "metadata": {
        "id": "4B-KHULG0-k0"
      },
      "execution_count": 60,
      "outputs": []
    },
    {
      "cell_type": "markdown",
      "source": [
        "# Upload files to colab from your local disks"
      ],
      "metadata": {
        "id": "rzid4rHhVrHs"
      }
    },
    {
      "cell_type": "code",
      "source": [
        "uploaded = files.upload()\n",
        "uploaded  # uploaded is not so important. You files are phycially there."
      ],
      "metadata": {
        "colab": {
          "base_uri": "https://localhost:8080/",
          "height": 148
        },
        "id": "GwIKgEXg3m47",
        "outputId": "203712ea-d8ff-4e7c-913a-d734b8b7a955"
      },
      "execution_count": 61,
      "outputs": [
        {
          "output_type": "display_data",
          "data": {
            "text/plain": [
              "<IPython.core.display.HTML object>"
            ],
            "text/html": [
              "\n",
              "     <input type=\"file\" id=\"files-bb5d2e75-28a3-4e18-95f6-bcee5574bd57\" name=\"files[]\" multiple disabled\n",
              "        style=\"border:none\" />\n",
              "     <output id=\"result-bb5d2e75-28a3-4e18-95f6-bcee5574bd57\">\n",
              "      Upload widget is only available when the cell has been executed in the\n",
              "      current browser session. Please rerun this cell to enable.\n",
              "      </output>\n",
              "      <script>// Copyright 2017 Google LLC\n",
              "//\n",
              "// Licensed under the Apache License, Version 2.0 (the \"License\");\n",
              "// you may not use this file except in compliance with the License.\n",
              "// You may obtain a copy of the License at\n",
              "//\n",
              "//      http://www.apache.org/licenses/LICENSE-2.0\n",
              "//\n",
              "// Unless required by applicable law or agreed to in writing, software\n",
              "// distributed under the License is distributed on an \"AS IS\" BASIS,\n",
              "// WITHOUT WARRANTIES OR CONDITIONS OF ANY KIND, either express or implied.\n",
              "// See the License for the specific language governing permissions and\n",
              "// limitations under the License.\n",
              "\n",
              "/**\n",
              " * @fileoverview Helpers for google.colab Python module.\n",
              " */\n",
              "(function(scope) {\n",
              "function span(text, styleAttributes = {}) {\n",
              "  const element = document.createElement('span');\n",
              "  element.textContent = text;\n",
              "  for (const key of Object.keys(styleAttributes)) {\n",
              "    element.style[key] = styleAttributes[key];\n",
              "  }\n",
              "  return element;\n",
              "}\n",
              "\n",
              "// Max number of bytes which will be uploaded at a time.\n",
              "const MAX_PAYLOAD_SIZE = 100 * 1024;\n",
              "\n",
              "function _uploadFiles(inputId, outputId) {\n",
              "  const steps = uploadFilesStep(inputId, outputId);\n",
              "  const outputElement = document.getElementById(outputId);\n",
              "  // Cache steps on the outputElement to make it available for the next call\n",
              "  // to uploadFilesContinue from Python.\n",
              "  outputElement.steps = steps;\n",
              "\n",
              "  return _uploadFilesContinue(outputId);\n",
              "}\n",
              "\n",
              "// This is roughly an async generator (not supported in the browser yet),\n",
              "// where there are multiple asynchronous steps and the Python side is going\n",
              "// to poll for completion of each step.\n",
              "// This uses a Promise to block the python side on completion of each step,\n",
              "// then passes the result of the previous step as the input to the next step.\n",
              "function _uploadFilesContinue(outputId) {\n",
              "  const outputElement = document.getElementById(outputId);\n",
              "  const steps = outputElement.steps;\n",
              "\n",
              "  const next = steps.next(outputElement.lastPromiseValue);\n",
              "  return Promise.resolve(next.value.promise).then((value) => {\n",
              "    // Cache the last promise value to make it available to the next\n",
              "    // step of the generator.\n",
              "    outputElement.lastPromiseValue = value;\n",
              "    return next.value.response;\n",
              "  });\n",
              "}\n",
              "\n",
              "/**\n",
              " * Generator function which is called between each async step of the upload\n",
              " * process.\n",
              " * @param {string} inputId Element ID of the input file picker element.\n",
              " * @param {string} outputId Element ID of the output display.\n",
              " * @return {!Iterable<!Object>} Iterable of next steps.\n",
              " */\n",
              "function* uploadFilesStep(inputId, outputId) {\n",
              "  const inputElement = document.getElementById(inputId);\n",
              "  inputElement.disabled = false;\n",
              "\n",
              "  const outputElement = document.getElementById(outputId);\n",
              "  outputElement.innerHTML = '';\n",
              "\n",
              "  const pickedPromise = new Promise((resolve) => {\n",
              "    inputElement.addEventListener('change', (e) => {\n",
              "      resolve(e.target.files);\n",
              "    });\n",
              "  });\n",
              "\n",
              "  const cancel = document.createElement('button');\n",
              "  inputElement.parentElement.appendChild(cancel);\n",
              "  cancel.textContent = 'Cancel upload';\n",
              "  const cancelPromise = new Promise((resolve) => {\n",
              "    cancel.onclick = () => {\n",
              "      resolve(null);\n",
              "    };\n",
              "  });\n",
              "\n",
              "  // Wait for the user to pick the files.\n",
              "  const files = yield {\n",
              "    promise: Promise.race([pickedPromise, cancelPromise]),\n",
              "    response: {\n",
              "      action: 'starting',\n",
              "    }\n",
              "  };\n",
              "\n",
              "  cancel.remove();\n",
              "\n",
              "  // Disable the input element since further picks are not allowed.\n",
              "  inputElement.disabled = true;\n",
              "\n",
              "  if (!files) {\n",
              "    return {\n",
              "      response: {\n",
              "        action: 'complete',\n",
              "      }\n",
              "    };\n",
              "  }\n",
              "\n",
              "  for (const file of files) {\n",
              "    const li = document.createElement('li');\n",
              "    li.append(span(file.name, {fontWeight: 'bold'}));\n",
              "    li.append(span(\n",
              "        `(${file.type || 'n/a'}) - ${file.size} bytes, ` +\n",
              "        `last modified: ${\n",
              "            file.lastModifiedDate ? file.lastModifiedDate.toLocaleDateString() :\n",
              "                                    'n/a'} - `));\n",
              "    const percent = span('0% done');\n",
              "    li.appendChild(percent);\n",
              "\n",
              "    outputElement.appendChild(li);\n",
              "\n",
              "    const fileDataPromise = new Promise((resolve) => {\n",
              "      const reader = new FileReader();\n",
              "      reader.onload = (e) => {\n",
              "        resolve(e.target.result);\n",
              "      };\n",
              "      reader.readAsArrayBuffer(file);\n",
              "    });\n",
              "    // Wait for the data to be ready.\n",
              "    let fileData = yield {\n",
              "      promise: fileDataPromise,\n",
              "      response: {\n",
              "        action: 'continue',\n",
              "      }\n",
              "    };\n",
              "\n",
              "    // Use a chunked sending to avoid message size limits. See b/62115660.\n",
              "    let position = 0;\n",
              "    do {\n",
              "      const length = Math.min(fileData.byteLength - position, MAX_PAYLOAD_SIZE);\n",
              "      const chunk = new Uint8Array(fileData, position, length);\n",
              "      position += length;\n",
              "\n",
              "      const base64 = btoa(String.fromCharCode.apply(null, chunk));\n",
              "      yield {\n",
              "        response: {\n",
              "          action: 'append',\n",
              "          file: file.name,\n",
              "          data: base64,\n",
              "        },\n",
              "      };\n",
              "\n",
              "      let percentDone = fileData.byteLength === 0 ?\n",
              "          100 :\n",
              "          Math.round((position / fileData.byteLength) * 100);\n",
              "      percent.textContent = `${percentDone}% done`;\n",
              "\n",
              "    } while (position < fileData.byteLength);\n",
              "  }\n",
              "\n",
              "  // All done.\n",
              "  yield {\n",
              "    response: {\n",
              "      action: 'complete',\n",
              "    }\n",
              "  };\n",
              "}\n",
              "\n",
              "scope.google = scope.google || {};\n",
              "scope.google.colab = scope.google.colab || {};\n",
              "scope.google.colab._files = {\n",
              "  _uploadFiles,\n",
              "  _uploadFilesContinue,\n",
              "};\n",
              "})(self);\n",
              "</script> "
            ]
          },
          "metadata": {}
        },
        {
          "output_type": "stream",
          "name": "stdout",
          "text": [
            "Saving pedi.parquet to pedi.parquet\n",
            "Saving pheno.parquet to pheno.parquet\n",
            "Saving dairy_minimal.ped to dairy_minimal.ped\n"
          ]
        }
      ]
    },
    {
      "cell_type": "code",
      "source": [
        "!ls -la    # you can see your file names if loaded"
      ],
      "metadata": {
        "colab": {
          "base_uri": "https://localhost:8080/"
        },
        "id": "j5GAbyyk47Ci",
        "outputId": "8a97a131-ab84-45ce-e53e-db366ab5b41e"
      },
      "execution_count": 94,
      "outputs": [
        {
          "output_type": "stream",
          "name": "stdout",
          "text": [
            "total 87476\n",
            "drwxr-xr-x 1 root root     4096 Nov 17 07:03 .\n",
            "drwxr-xr-x 1 root root     4096 Nov 17 04:22 ..\n",
            "drwxr-xr-x 4 root root     4096 Nov 15 14:30 .config\n",
            "-rw-r--r-- 1 root root 53428643 Nov 17 07:03 dairy_minimal.ped\n",
            "drwx------ 5 root root     4096 Nov 17 04:36 drive\n",
            "-rw-r--r-- 1 root root 21752700 Nov 17 07:03 pedi.parquet\n",
            "-rw-r--r-- 1 root root 14367216 Nov 17 07:03 pheno.parquet\n",
            "drwxr-xr-x 1 root root     4096 Nov 15 14:31 sample_data\n"
          ]
        }
      ]
    },
    {
      "cell_type": "markdown",
      "source": [
        "# Copy colab files to google drive [linux commands]"
      ],
      "metadata": {
        "id": "q345H0kYdIMm"
      }
    },
    {
      "cell_type": "code",
      "source": [
        "!cp dairy_minimal.ped drive/MyDrive/all-dfs/\n",
        "!cp pedi.parquet drive/MyDrive/all-dfs/\n",
        "!cp pheno.parquet drive/MyDrive/all-dfs/"
      ],
      "metadata": {
        "id": "XAp9dYkydHD2"
      },
      "execution_count": 93,
      "outputs": []
    },
    {
      "cell_type": "markdown",
      "source": [
        "# Act upon and save modified dataframes to workspace [\"/content\"]"
      ],
      "metadata": {
        "id": "SYkrdI84exXd"
      }
    },
    {
      "cell_type": "code",
      "source": [
        "df=pd.read_csv(\"dairy_minimal.ped\")\n",
        "df.head().to_csv(\"hey.csv\")"
      ],
      "metadata": {
        "id": "bNP1shkp9kNH"
      },
      "execution_count": 117,
      "outputs": []
    },
    {
      "cell_type": "markdown",
      "source": [
        "# Remove and clear workspace if required"
      ],
      "metadata": {
        "id": "HJClpMplhRM7"
      }
    },
    {
      "cell_type": "code",
      "source": [
        "!rm pheno.parquet\n",
        "!rm ped.parquet\n",
        "!rm dairy_minimal.ped"
      ],
      "metadata": {
        "colab": {
          "base_uri": "https://localhost:8080/"
        },
        "id": "MbGroboF-Q2P",
        "outputId": "00fae985-7c57-4c78-b797-daa9075297e5"
      },
      "execution_count": 109,
      "outputs": [
        {
          "output_type": "stream",
          "name": "stdout",
          "text": [
            "rm: cannot remove 'pheno.parquet': No such file or directory\n",
            "rm: cannot remove 'ped.parquet': No such file or directory\n",
            "rm: cannot remove 'dairy_minimal.ped': No such file or directory\n"
          ]
        }
      ]
    },
    {
      "cell_type": "markdown",
      "source": [
        "# Checks what's in your google drive"
      ],
      "metadata": {
        "id": "jNjnJKhzhjlb"
      }
    },
    {
      "cell_type": "code",
      "source": [
        "!ls -la drive/MyDrive/all-dfs/"
      ],
      "metadata": {
        "colab": {
          "base_uri": "https://localhost:8080/"
        },
        "id": "CbH2LTuO-de_",
        "outputId": "06c7db16-7e35-44c5-c215-ff5584f19ad2"
      },
      "execution_count": 110,
      "outputs": [
        {
          "output_type": "stream",
          "name": "stdout",
          "text": [
            "total 87463\n",
            "-rw------- 1 root root 53428643 Nov 17 07:20 dairy_minimal.ped\n",
            "-rw------- 1 root root 21752700 Nov 17 07:20 pedi.parquet\n",
            "-rw------- 1 root root 14367216 Nov 17 07:20 pheno.parquet\n",
            "-rw------- 1 root root    12777 Nov 17 07:08 test.parquet\n"
          ]
        }
      ]
    },
    {
      "cell_type": "markdown",
      "source": [
        "# Even delete from your google drive if you want."
      ],
      "metadata": {
        "id": "fW8H9r5jhptc"
      }
    },
    {
      "cell_type": "code",
      "source": [
        "!rm drive/MyDrive/all-dfs/test.parquet\n",
        "!ls -la drive/MyDrive/all-dfs/"
      ],
      "metadata": {
        "id": "ShVcFzVuDDWt"
      },
      "execution_count": 111,
      "outputs": []
    },
    {
      "cell_type": "markdown",
      "source": [
        "# Copy from google drive to colab workspace"
      ],
      "metadata": {
        "id": "5qZGmiX9h4yX"
      }
    },
    {
      "cell_type": "code",
      "source": [
        "!cp drive/MyDrive/all-dfs/* \".\"\n",
        "!ls -la \".\""
      ],
      "metadata": {
        "id": "QUbn2dn5D7Zs"
      },
      "execution_count": 115,
      "outputs": []
    },
    {
      "cell_type": "markdown",
      "source": [
        "# Download from colab workspace back to your local machine"
      ],
      "metadata": {
        "id": "4q_OKztOeJrl"
      }
    },
    {
      "cell_type": "code",
      "source": [
        "# after finishing progessbar it will ask for location to save\n",
        "files.download('pedi.parquet') "
      ],
      "metadata": {
        "id": "CnpTVsbKEQcs"
      },
      "execution_count": 117,
      "outputs": []
    },
    {
      "cell_type": "code",
      "source": [],
      "metadata": {
        "id": "AKwwrhr8Eh30"
      },
      "execution_count": 116,
      "outputs": []
    }
  ]
}